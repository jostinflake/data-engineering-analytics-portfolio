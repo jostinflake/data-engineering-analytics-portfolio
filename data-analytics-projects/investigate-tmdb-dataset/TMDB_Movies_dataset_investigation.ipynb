{
 "cells": [
  {
   "cell_type": "markdown",
   "metadata": {},
   "source": [
    "# Project: TMDB-Movies Dataset Investigation\n",
    "\n",
    "## Author: Jostin Flake\n",
    "\n",
    "## Table of Contents\n",
    "<ul>\n",
    "<li><a href=\"#intro\">Introduction</a></li>\n",
    "<li><a href=\"#wrangling\">Data Wrangling</a></li>\n",
    "<li><a href=\"#eda\">Exploratory Data Analysis</a></li>\n",
    "<li><a href=\"#conclusions\">Conclusions</a></li>\n",
    "</ul>"
   ]
  },
  {
   "cell_type": "markdown",
   "metadata": {},
   "source": [
    "<a id='intro'></a>\n",
    "## Introduction\n",
    "\n",
    "The dataset chosen for this analysis was the tmdb-movies dataset. Movies are an iconic and historic American-past time. Throughout this report, we will be exploring this dataset to answer some specific questions. The answers to these questions will provide us with a better understanding of the dataset. After the exploration of this data, we will use the findings to create a conclusion. Plots and graphs help to support the communication of the conclusion and are represented in the report visually. The questions answered throughout this analysis can be categorized into groups or sections. The list of questions, along with their associated categorization is as follows:\n",
    "<ul>\n",
    "    <lh><b>Questions about movies based on revenue and budget</b></lh>\n",
    "    <li>What was the total amount of revenue earned?</li>\n",
    "    <li>What was the average amount of revenue earned?</li>\n",
    "    <li>What was the highest amount of revenue earned?</li>\n",
    "    <li>What was the total amount spent on budgets?</li>\n",
    "    <li>What was the average amount spent on budgets?</li>\n",
    "    <li>What was the largest amount spent on budgets?</li>\n",
    "    <li>What is the correlation between the revenue and budget?</li>\n",
    "</ul>\n",
    "<ul>\n",
    "    <lh><b>Questions about movies grouped by year</b></lh>\n",
    "    <li>In each year, what was the movie that earned the most amount of revenue?</li>\n",
    "    <li>In each year, what was the movie with the largest budget?</li>\n",
    "    <li>In each year, what was the average amount of revenue earned?</li>\n",
    "    <li>In each year, what was the average budget for a movie?</li>\n",
    "    <li>In each year, what was the average rating for the movies released?</li>\n",
    "    <li>Which year released the most number of movies?</li>\n",
    "</ul>\n",
    "\n",
    "Also it is important to notice that our calculations are being performed on the revenue_adj to account for inflation. All calculations on revenue and budget will be performed on the revenue_adj and budget_adj. These values represent an amount in terms of United States Dollars(USD) in the year of 2010.   "
   ]
  },
  {
   "cell_type": "code",
   "execution_count": 2,
   "metadata": {},
   "outputs": [],
   "source": [
    "%matplotlib inline\n",
    "\n",
    "import matplotlib.pyplot as plt\n",
    "import numpy as np\n",
    "import pandas as pd\n",
    "import seaborn as sns"
   ]
  },
  {
   "cell_type": "markdown",
   "metadata": {},
   "source": [
    "<a id='wrangling'></a>\n",
    "## Data Wrangling\n",
    "\n",
    "\n",
    "### General Properties of Dataset"
   ]
  },
  {
   "cell_type": "code",
   "execution_count": 3,
   "metadata": {},
   "outputs": [
    {
     "name": "stdout",
     "output_type": "stream",
     "text": [
      "id                        int64\n",
      "imdb_id                  object\n",
      "popularity              float64\n",
      "budget                    int64\n",
      "revenue                   int64\n",
      "original_title           object\n",
      "cast                     object\n",
      "homepage                 object\n",
      "director                 object\n",
      "tagline                  object\n",
      "keywords                 object\n",
      "overview                 object\n",
      "runtime                   int64\n",
      "genres                   object\n",
      "production_companies     object\n",
      "release_date             object\n",
      "vote_count                int64\n",
      "vote_average            float64\n",
      "release_year              int64\n",
      "budget_adj              float64\n",
      "revenue_adj             float64\n",
      "dtype: object\n"
     ]
    }
   ],
   "source": [
    "# The first line of code loads the tmdb-movies.csv dataset into a dataframe called movies_df.\n",
    "# The second line of code prints out the datatypes for each column in the dataframe for inspection.\n",
    "\n",
    "movies_df = pd.read_csv('tmdb-movies.csv')\n",
    "\n",
    "print movies_df.dtypes"
   ]
  },
  {
   "cell_type": "markdown",
   "metadata": {},
   "source": [
    "In the preceding cell, we wrangled our dataset from a CSV into a data frame. Now we can efficiently run functions and operations on the dataset to answer our questions. Also, in the cell above, we print out the datatypes of each column in the data frame. If we feel that any of these data types will cause problems in our functions, now is the time we will want to change those datatypes before moving on. However, it doesn't look like we will need to fix any datatypes to answer the questions above; we will leave the datatypes alone. However, it may be wise to drop some columns from our dataframe that aren't useful to our questions and won't be used in any of our data analysis."
   ]
  },
  {
   "cell_type": "code",
   "execution_count": 4,
   "metadata": {},
   "outputs": [],
   "source": [
    "# This cell of code drops unnecessary columns that are irrelevant to answer the questions asked. \n",
    "\n",
    "movies_df = movies_df.drop(columns=['imdb_id', 'popularity', 'budget', 'revenue', 'homepage', 'director', 'tagline', 'keywords', 'overview', 'runtime', 'production_companies', 'release_date', 'vote_count'])"
   ]
  },
  {
   "cell_type": "code",
   "execution_count": 5,
   "metadata": {},
   "outputs": [
    {
     "name": "stdout",
     "output_type": "stream",
     "text": [
      "id                  int64\n",
      "original_title     object\n",
      "cast               object\n",
      "genres             object\n",
      "vote_average      float64\n",
      "release_year        int64\n",
      "budget_adj        float64\n",
      "revenue_adj       float64\n",
      "dtype: object\n"
     ]
    }
   ],
   "source": [
    "print movies_df.dtypes"
   ]
  },
  {
   "cell_type": "markdown",
   "metadata": {},
   "source": [
    "The preceding code cells first took our dataframe movies_df and dropped columns, making our data set smaller. These columns were irrelevant to our questions and would not be used as data for any of our equations in the rest of this notebook. The print code above displays the columns and their data types for our new movies_df. You can see we went from twenty-one columns down to nine. It is always a good idea to have as simple and clean data as possible to avoid errant data."
   ]
  },
  {
   "cell_type": "code",
   "execution_count": 6,
   "metadata": {},
   "outputs": [
    {
     "name": "stdout",
     "output_type": "stream",
     "text": [
      "Number of Rows: 10866\n"
     ]
    }
   ],
   "source": [
    "# This line of code prints the number of rows in the dataframe.\n",
    "\n",
    "print 'Number of Rows:', len(movies_df)"
   ]
  },
  {
   "cell_type": "markdown",
   "metadata": {},
   "source": [
    "Finally, in the cell above we returned the number of rows in the data frame. We will want to compare the number of rows above to the number of unique movies, to make sure we don't have duplicated or errant data. These steps are essential to help us better understand our dataset. Fixing datatypes, investigating the data, finding problems in the data, and fixing errant data are all steps in the data wrangling process. "
   ]
  },
  {
   "cell_type": "code",
   "execution_count": 7,
   "metadata": {},
   "outputs": [],
   "source": [
    "# In this cell we define a funcion that will get data from a column in our dataframe and then return a series of that data.\n",
    "# The function passes in two argurments through the df and column parameters.\n",
    "\n",
    "def get_unique_data(df, column):\n",
    "    new_pd_series = pd.Series(df[column].values)\n",
    "    return new_pd_series"
   ]
  },
  {
   "cell_type": "code",
   "execution_count": 8,
   "metadata": {},
   "outputs": [],
   "source": [
    "# In this cell we will use our get_unique_data function to create a pandas series of the id column in the movies_df table.\n",
    "\n",
    "ser_movie_id = get_unique_data(movies_df, 'id')"
   ]
  },
  {
   "cell_type": "code",
   "execution_count": 9,
   "metadata": {},
   "outputs": [
    {
     "name": "stdout",
     "output_type": "stream",
     "text": [
      "10865\n"
     ]
    }
   ],
   "source": [
    "# In this cell we will use convert our pandas series to a python set.\n",
    "# Then we will print the number of rows in the new set set_of_movies_id\n",
    "\n",
    "set_of_movies_id = set(ser_movie_id)\n",
    "\n",
    "print len(set_of_movies_id)"
   ]
  },
  {
   "cell_type": "markdown",
   "metadata": {},
   "source": [
    "The code above defines a function that takes the id column from our data frame and creates a series from those values. Once created, we could then create a set from that series and then print out the number of rows in the set. A set does not store duplicate values as elements. Now we compare the number of rows printed from our set with the number of rows printed from our original data frame. As you can see from the row above, the number of returned is one row less than the quantity returned previously. From this data, we can assume that there is one row of duplicate data exists in the dataset. If we were to continue without fixing the errant data, our evaluations would be incorrect. The exploration and cleaning of data are vital steps in the data analysis process."
   ]
  },
  {
   "cell_type": "markdown",
   "metadata": {},
   "source": [
    "### Data Cleaning (Identify and remove the duplicate row from movies_df)"
   ]
  },
  {
   "cell_type": "code",
   "execution_count": 10,
   "metadata": {},
   "outputs": [
    {
     "name": "stdout",
     "output_type": "stream",
     "text": [
      "         id original_title                                               cast  \\\n",
      "2090  42194         TEKKEN  Jon Foo|Kelly Overton|Cary-Hiroyuki Tagawa|Ian...   \n",
      "\n",
      "                                           genres  vote_average  release_year  \\\n",
      "2090  Crime|Drama|Action|Thriller|Science Fiction           5.0          2010   \n",
      "\n",
      "      budget_adj  revenue_adj  \n",
      "2090  30000000.0     967000.0  \n"
     ]
    }
   ],
   "source": [
    "# In this cell we will use a built-in pandas funciton to locate the duplicated row in our movies_df\n",
    "\n",
    "\n",
    "duplicate_row_in_df = movies_df[movies_df.duplicated(subset='id')]\n",
    "\n",
    "print(duplicate_row_in_df)"
   ]
  },
  {
   "cell_type": "code",
   "execution_count": 11,
   "metadata": {},
   "outputs": [
    {
     "data": {
      "text/html": [
       "<div>\n",
       "<style scoped>\n",
       "    .dataframe tbody tr th:only-of-type {\n",
       "        vertical-align: middle;\n",
       "    }\n",
       "\n",
       "    .dataframe tbody tr th {\n",
       "        vertical-align: top;\n",
       "    }\n",
       "\n",
       "    .dataframe thead th {\n",
       "        text-align: right;\n",
       "    }\n",
       "</style>\n",
       "<table border=\"1\" class=\"dataframe\">\n",
       "  <thead>\n",
       "    <tr style=\"text-align: right;\">\n",
       "      <th></th>\n",
       "      <th>id</th>\n",
       "      <th>original_title</th>\n",
       "      <th>cast</th>\n",
       "      <th>genres</th>\n",
       "      <th>vote_average</th>\n",
       "      <th>release_year</th>\n",
       "      <th>budget_adj</th>\n",
       "      <th>revenue_adj</th>\n",
       "    </tr>\n",
       "  </thead>\n",
       "  <tbody>\n",
       "    <tr>\n",
       "      <th>2089</th>\n",
       "      <td>42194</td>\n",
       "      <td>TEKKEN</td>\n",
       "      <td>Jon Foo|Kelly Overton|Cary-Hiroyuki Tagawa|Ian...</td>\n",
       "      <td>Crime|Drama|Action|Thriller|Science Fiction</td>\n",
       "      <td>5.0</td>\n",
       "      <td>2010</td>\n",
       "      <td>30000000.0</td>\n",
       "      <td>967000.0</td>\n",
       "    </tr>\n",
       "    <tr>\n",
       "      <th>2090</th>\n",
       "      <td>42194</td>\n",
       "      <td>TEKKEN</td>\n",
       "      <td>Jon Foo|Kelly Overton|Cary-Hiroyuki Tagawa|Ian...</td>\n",
       "      <td>Crime|Drama|Action|Thriller|Science Fiction</td>\n",
       "      <td>5.0</td>\n",
       "      <td>2010</td>\n",
       "      <td>30000000.0</td>\n",
       "      <td>967000.0</td>\n",
       "    </tr>\n",
       "  </tbody>\n",
       "</table>\n",
       "</div>"
      ],
      "text/plain": [
       "         id original_title                                               cast  \\\n",
       "2089  42194         TEKKEN  Jon Foo|Kelly Overton|Cary-Hiroyuki Tagawa|Ian...   \n",
       "2090  42194         TEKKEN  Jon Foo|Kelly Overton|Cary-Hiroyuki Tagawa|Ian...   \n",
       "\n",
       "                                           genres  vote_average  release_year  \\\n",
       "2089  Crime|Drama|Action|Thriller|Science Fiction           5.0          2010   \n",
       "2090  Crime|Drama|Action|Thriller|Science Fiction           5.0          2010   \n",
       "\n",
       "      budget_adj  revenue_adj  \n",
       "2089  30000000.0     967000.0  \n",
       "2090  30000000.0     967000.0  "
      ]
     },
     "execution_count": 11,
     "metadata": {},
     "output_type": "execute_result"
    }
   ],
   "source": [
    "# The code in this cell takes the specific id found and verifies the rows are duplicated in our movies_df.\n",
    "\n",
    "movies_df.loc[movies_df['id'] == 42194]"
   ]
  },
  {
   "cell_type": "markdown",
   "metadata": {},
   "source": [
    "From the results in the cell above we can see that entry with id 42194 is duplicated. Now we will go about removing one of the duplicated rows from our data frame. Luckily, pandas has a built-in function for this so we don't have to create a function to do this."
   ]
  },
  {
   "cell_type": "code",
   "execution_count": 12,
   "metadata": {},
   "outputs": [],
   "source": [
    "movies_df = movies_df.drop_duplicates(subset ='id')"
   ]
  },
  {
   "cell_type": "markdown",
   "metadata": {},
   "source": [
    "After running the code above we have modified our original movies_df and replaced it with the same dataframe minus the duplicated row."
   ]
  },
  {
   "cell_type": "code",
   "execution_count": 13,
   "metadata": {},
   "outputs": [
    {
     "name": "stdout",
     "output_type": "stream",
     "text": [
      "10865\n"
     ]
    }
   ],
   "source": [
    "print len(movies_df)"
   ]
  },
  {
   "cell_type": "markdown",
   "metadata": {},
   "source": [
    "The code above prints the number of rows in our modified movies_df data frame. Now we verify that the duplicate no longer exists in our data frame. We do this by running the same exploration code we did in the previous section General Properties of Dataset to verify the number of unique values returned matches the number of rows returned. "
   ]
  },
  {
   "cell_type": "code",
   "execution_count": 14,
   "metadata": {},
   "outputs": [],
   "source": [
    "ser_movie_id = get_unique_data(movies_df, 'id')"
   ]
  },
  {
   "cell_type": "code",
   "execution_count": 15,
   "metadata": {},
   "outputs": [
    {
     "name": "stdout",
     "output_type": "stream",
     "text": [
      "10865\n"
     ]
    }
   ],
   "source": [
    "set_of_movies_id = set(ser_movie_id)\n",
    "\n",
    "print len(set_of_movies_id)"
   ]
  },
  {
   "cell_type": "markdown",
   "metadata": {},
   "source": [
    "The code above produced the same number of unique values for the id column. It looks like it worked and the duplicate row was removed."
   ]
  },
  {
   "cell_type": "code",
   "execution_count": 17,
   "metadata": {},
   "outputs": [
    {
     "data": {
      "text/html": [
       "<div>\n",
       "<style scoped>\n",
       "    .dataframe tbody tr th:only-of-type {\n",
       "        vertical-align: middle;\n",
       "    }\n",
       "\n",
       "    .dataframe tbody tr th {\n",
       "        vertical-align: top;\n",
       "    }\n",
       "\n",
       "    .dataframe thead th {\n",
       "        text-align: right;\n",
       "    }\n",
       "</style>\n",
       "<table border=\"1\" class=\"dataframe\">\n",
       "  <thead>\n",
       "    <tr style=\"text-align: right;\">\n",
       "      <th></th>\n",
       "      <th>id</th>\n",
       "      <th>original_title</th>\n",
       "      <th>cast</th>\n",
       "      <th>genres</th>\n",
       "      <th>vote_average</th>\n",
       "      <th>release_year</th>\n",
       "      <th>budget_adj</th>\n",
       "      <th>revenue_adj</th>\n",
       "    </tr>\n",
       "  </thead>\n",
       "  <tbody>\n",
       "    <tr>\n",
       "      <th>2089</th>\n",
       "      <td>42194</td>\n",
       "      <td>TEKKEN</td>\n",
       "      <td>Jon Foo|Kelly Overton|Cary-Hiroyuki Tagawa|Ian...</td>\n",
       "      <td>Crime|Drama|Action|Thriller|Science Fiction</td>\n",
       "      <td>5.0</td>\n",
       "      <td>2010</td>\n",
       "      <td>30000000.0</td>\n",
       "      <td>967000.0</td>\n",
       "    </tr>\n",
       "  </tbody>\n",
       "</table>\n",
       "</div>"
      ],
      "text/plain": [
       "         id original_title                                               cast  \\\n",
       "2089  42194         TEKKEN  Jon Foo|Kelly Overton|Cary-Hiroyuki Tagawa|Ian...   \n",
       "\n",
       "                                           genres  vote_average  release_year  \\\n",
       "2089  Crime|Drama|Action|Thriller|Science Fiction           5.0          2010   \n",
       "\n",
       "      budget_adj  revenue_adj  \n",
       "2089  30000000.0     967000.0  "
      ]
     },
     "execution_count": 17,
     "metadata": {},
     "output_type": "execute_result"
    }
   ],
   "source": [
    "movies_df.loc[movies_df['id'] == 42194]"
   ]
  },
  {
   "cell_type": "markdown",
   "metadata": {},
   "source": [
    "The preceding code and results return all the rows in our data frame that match the problematic id we found earlier. It is always good to confirm the data was fixed.  "
   ]
  },
  {
   "cell_type": "markdown",
   "metadata": {},
   "source": [
    "<a id='eda'></a>\n",
    "## Exploratory Data Analysis\n",
    "\n",
    "\n",
    "\n",
    "### Questions about movies based on revenue"
   ]
  },
  {
   "cell_type": "code",
   "execution_count": 18,
   "metadata": {},
   "outputs": [
    {
     "data": {
      "text/plain": [
       "count    1.086500e+04\n",
       "mean     5.136900e+07\n",
       "std      1.446383e+08\n",
       "min      0.000000e+00\n",
       "25%      0.000000e+00\n",
       "50%      0.000000e+00\n",
       "75%      3.370173e+07\n",
       "max      2.827124e+09\n",
       "Name: revenue_adj, dtype: float64"
      ]
     },
     "execution_count": 18,
     "metadata": {},
     "output_type": "execute_result"
    }
   ],
   "source": [
    "# This cell of code will use the decscribe function to return various statics for our revenue_adj column in the data frame.\n",
    "# The results are rounded to the second decimal place.\n",
    "\n",
    "movies_df['revenue_adj'].describe().round(2)"
   ]
  },
  {
   "cell_type": "markdown",
   "metadata": {},
   "source": [
    "After running the code in the cell above you can see that the results are displayed using scientific notation. This makes reading the data difficult. As part of the data analysis process you often may need to go back and forth between phases as your investigation may lead to new findings. This is very normal, and so to fix this we are going to apply a format change to our pandas options."
   ]
  },
  {
   "cell_type": "code",
   "execution_count": 19,
   "metadata": {},
   "outputs": [],
   "source": [
    "# This cell, when ran, will change the global behaviour for pandas formatting for the entire jupyter notebook.\n",
    "\n",
    "pd.set_option('display.float_format', lambda x: '%.5f' % x)"
   ]
  },
  {
   "cell_type": "markdown",
   "metadata": {},
   "source": [
    "The cell above will format the display of floating decimals. This will remove the scientific notation from our results. "
   ]
  },
  {
   "cell_type": "code",
   "execution_count": 20,
   "metadata": {},
   "outputs": [
    {
     "data": {
      "text/plain": [
       "count        10865.00000\n",
       "mean      51369001.76000\n",
       "std      144638333.13000\n",
       "min              0.00000\n",
       "25%              0.00000\n",
       "50%              0.00000\n",
       "75%       33701729.01000\n",
       "max     2827123750.41000\n",
       "Name: revenue_adj, dtype: float64"
      ]
     },
     "execution_count": 20,
     "metadata": {},
     "output_type": "execute_result"
    }
   ],
   "source": [
    "# This cell will extract the revenue_adj values from the movies_df dataframe and then perform a variety of different calulations\n",
    "# on the values. It will then return the results rounded to the second decimal.\n",
    "\n",
    "movies_df['revenue_adj'].describe().round(2)"
   ]
  },
  {
   "cell_type": "markdown",
   "metadata": {},
   "source": [
    "This is same code prior to our the fix and the results are much easier to read. From this one line of code we already have answers to two of our questions about movies based on revenue and budget.\n",
    "<ul>\n",
    "    <li><b>What was the average amount of revenue earned?</b> 51369001.76</li>\n",
    "    <li><b>What was the highest amount of revenue earned?</b> 2827123750.4</li>\n",
    "</ul>"
   ]
  },
  {
   "cell_type": "code",
   "execution_count": 21,
   "metadata": {},
   "outputs": [
    {
     "name": "stdout",
     "output_type": "stream",
     "text": [
      "sum: 558124204110.0\n"
     ]
    }
   ],
   "source": [
    "# This cell will print the sum of all the values in the revenue_adj column rounded to the second decimal.\n",
    "\n",
    "print 'sum:', movies_df['revenue_adj'].sum().round(2)"
   ]
  },
  {
   "cell_type": "markdown",
   "metadata": {},
   "source": [
    "The cell above answers the question about the total amount of revenue earned.\n",
    "\n",
    "<ul>\n",
    "    <li><b>What was the total amount of revenue earned?</b> 558124204110.0</li>\n",
    "</ul>"
   ]
  },
  {
   "cell_type": "code",
   "execution_count": 22,
   "metadata": {},
   "outputs": [
    {
     "data": {
      "text/plain": [
       "count       10865.00000\n",
       "mean     17549894.04000\n",
       "std      34307526.66000\n",
       "min             0.00000\n",
       "25%             0.00000\n",
       "50%             0.00000\n",
       "75%      20853251.08000\n",
       "max     425000000.00000\n",
       "Name: budget_adj, dtype: float64"
      ]
     },
     "execution_count": 22,
     "metadata": {},
     "output_type": "execute_result"
    }
   ],
   "source": [
    "# This cell will extract the budget_adj values from the movies_df dataframe and then perform a variety of different calulations\n",
    "# on the values. It will then return the results rounded to the second decimal.\n",
    "\n",
    "movies_df['budget_adj'].describe().round(2)"
   ]
  },
  {
   "cell_type": "markdown",
   "metadata": {},
   "source": [
    "Just like we calculated a variety of statistics for the revenue_adj column, we do it again here for the budget_adj column.\n",
    "This answers the following questions.\n",
    "\n",
    "<ul>\n",
    "    <li><b>What was the average amount spent on budgets?</b> 17549894.04</li>\n",
    "    <li><b>What was the largest amount spent on budgets?</b> 425000000.00</li>\n",
    "</ul>"
   ]
  },
  {
   "cell_type": "code",
   "execution_count": 23,
   "metadata": {},
   "outputs": [
    {
     "name": "stdout",
     "output_type": "stream",
     "text": [
      "sum: 190679598715.0\n"
     ]
    }
   ],
   "source": [
    "# This cell will print the sum of all the values in the budget_adj column rounded to the second decimal.\n",
    "\n",
    "print 'sum:', movies_df['budget_adj'].sum().round(2)"
   ]
  },
  {
   "cell_type": "markdown",
   "metadata": {},
   "source": [
    "The cell above answers the following question, and prints the total amount spent on budgets.\n",
    "\n",
    "<ul>\n",
    "    <li><b>What was the total amount spent on budgets?</b> 190679598715.0</li>\n",
    "</ul>"
   ]
  },
  {
   "cell_type": "markdown",
   "metadata": {},
   "source": [
    "One of the most interesting questions we can ask about this dataset concerning the topic of movies is, whether or not budget spent affects revenue earned. What is the correlation between these two variables and is it a strong or weak correlation. We will explore this correlation next."
   ]
  },
  {
   "cell_type": "code",
   "execution_count": 25,
   "metadata": {},
   "outputs": [],
   "source": [
    "# This cell defines a generic function that will take in two variables as parameters and then return the correlation.\n",
    "\n",
    "def correlation(x, y):\n",
    "\n",
    "    x_standardized = (x - x.mean()) / x.std(ddof=0)\n",
    "    y_standardized = (y - y.mean()) / y.std(ddof=0)\n",
    "    \n",
    "    product_xy_standardized = x_standardized * y_standardized\n",
    "    pearsons_r = product_xy_standardized.mean()\n",
    "    \n",
    "    return pearsons_r"
   ]
  },
  {
   "cell_type": "markdown",
   "metadata": {},
   "source": [
    "The cell above defines a function that will take in two variables as parameters and then return the correlation between the two parameters. Notice inside of the function we are returning a variable called pearsons_r. This is in reference to pearsons_r, the equation known to find the correlation between two variables. We can see the actual equation to find a correlation inside of our correlation function. First you subtract from the mean from each value in your variable and then you divide that by the standard deviation for that variable. We return that value to a new variable, in this case it is x_standardized. Next, repeat this process for the second variable, and return the results to y_standardized. Once we have two new variables, we will multiply those two variables together and then return the mean. The final output gives us our correlation or pearsons_r. "
   ]
  },
  {
   "cell_type": "code",
   "execution_count": 26,
   "metadata": {},
   "outputs": [
    {
     "name": "stdout",
     "output_type": "stream",
     "text": [
      "The correlation between revenue_adj and budget_adj is: 0.65\n"
     ]
    }
   ],
   "source": [
    "# This cell utilizes the function correlation to return the correlation between revenue_adj and budget_adj.\n",
    "# The output is stored to a variable called correlation_rb (revenue_adj and budget_adj) and printed on the next line.\n",
    "\n",
    "correlation_rb = correlation(movies_df['revenue_adj'], movies_df['budget_adj'])\n",
    "print \"The correlation between revenue_adj and budget_adj is:\", correlation_rb.round(2)"
   ]
  },
  {
   "cell_type": "markdown",
   "metadata": {},
   "source": [
    "The cell above uses our defined correlation function to find the correlation between revenue_adj and budget_adj. Measuring values of correlation is based on a scale that ranges from 0 to 1. If the correlation between two variables returns a score of 1 it would mean that they are 100% correlated, at which point it would be safe to say they are caused by each other. This almost never happens in real life, remember correlation does not mean causation. The close pearsons_r or the correlation is to 1 the stronger the correlation. Anything over .8 is a strong correlation If the correlations scores closer to 0, that signifies that the two variables are not very correlated, we call this weak correlation. \n",
    "\n",
    "Since our score returned was 0.65 we can safely presume that there is a moderately positive correlation between revenue_adj earned and the budget_adj spent to make the movie."
   ]
  },
  {
   "cell_type": "code",
   "execution_count": 27,
   "metadata": {},
   "outputs": [],
   "source": [
    "data_rb = movies_df.groupby(['budget_adj', 'revenue_adj'], as_index = False).mean()"
   ]
  },
  {
   "cell_type": "code",
   "execution_count": 28,
   "metadata": {},
   "outputs": [
    {
     "data": {
      "image/png": "[encoded data removed]",
      "text/plain": [
       "<matplotlib.figure.Figure at 0x7ff2b12924d0>"
      ]
     },
     "metadata": {
      "needs_background": "light"
     },
     "output_type": "display_data"
    }
   ],
   "source": [
    "plt.scatter(data_rb['budget_adj'], data_rb['revenue_adj'], s = 1)\n",
    "plt.grid(linestyle='--', color = 'red')"
   ]
  },
  {
   "cell_type": "markdown",
   "metadata": {},
   "source": [
    "From the plot above we can see that the majority of the of the x and y coordinates are both negative, which means that the product of the x and y coordinates will be be positive. This defines a postive correlation because if the coordinates lie in the bottom-left or top-right of the scatter plot, the direction of the correlation will be positive. This helps confirm our previous finding that the correlation between revenue_adj earned and the budget_adj is moderately positive."
   ]
  },
  {
   "cell_type": "markdown",
   "metadata": {},
   "source": [
    "### Questions about movies grouped by year"
   ]
  },
  {
   "cell_type": "code",
   "execution_count": 29,
   "metadata": {},
   "outputs": [],
   "source": [
    "# In this cell we define a function to take in a series and then sort that series values by largest to smallest. \n",
    "# Then return the largest value.\n",
    "\n",
    "def largest_value(x):\n",
    "    sorted_x = x.sort_values(inplace = False, ascending = False)\n",
    "    return sorted_x.iloc[0]"
   ]
  },
  {
   "cell_type": "markdown",
   "metadata": {},
   "source": [
    "In the preceding cell we define a function that will be useful for the remaining of our data analysis. It defines a function called largest_value that takes in a series as an argument and then returns the largest value from the series."
   ]
  },
  {
   "cell_type": "code",
   "execution_count": 30,
   "metadata": {},
   "outputs": [],
   "source": [
    "# This cell defines a funcion to get the max value for a grouped by dataframe. \n",
    "# It takes in two parameters. First the column name for the max value you wish to retrieve. \n",
    "# Second the column name for which you wish to group by.\n",
    "\n",
    "def max_value_by_column(value_column_name, groupby_column_name):\n",
    "    grouped_df = movies_df.groupby(groupby_column_name)[value_column_name].apply(largest_value)\n",
    "    grouped_df.reset_index()\n",
    "    new_grouped_df = grouped_df.to_frame()\n",
    "    combined_df = new_grouped_df.merge(movies_df, on=value_column_name, how = 'left')\n",
    "    return combined_df"
   ]
  },
  {
   "cell_type": "markdown",
   "metadata": {},
   "source": [
    "The cell above does alot which will be explained here. The cell defines a function that will get the max value for a grouped by dataframe and return a new data frame object based on the the arguments passed through. The function takes two parameters, first the column name from the movies_df dataframe for the max value you wish to retrieve. Second the column name in the movies_df dataframe for which you wish to group by. There also is a lot happening within the function itself, a bullet point description to clarify this is provided here.\n",
    "<ul>\n",
    "    <li>The first line of code inside of the function performs the pandas groupby function by passing in the arguments and using .apply to apply our largest_value function during the groupby operation. This returns a  object that has contains the max value for the value_column_name which was passed into the function, we are storing to a new variable called group_df.</li>\n",
    "    <li>The second line inside the function resets the index for the new object, which allows the column that was being used to groupby to become active as a column. As before running this line of code, the column that was being used to groupby was not a column, but was being used as the index for the object.</li>\n",
    "    <li>The third line of code takes that new object and creates a new dataframe called new_grouped_df based on the columns and values.</li>\n",
    "    <li>The fourth line of code merges the new_grouped_df dataframe with the original movies_df dataframe based on the value_column_name provided in the function. The line of code also sets 'left' for the how option inside of the .merge pandas function to ensure we are returning everything from the new_grouped_df, regardless if its found or not inside the original movies_df. We then store this combination of dataframes to a new dataframe variable called combined_df.</li>\n",
    "    <li>The last line of code simply returns the combined dataframe combined_df.</li>\n",
    "</ul>   \n",
    "This function will save us a lot of time, as a lot of the questions investigated the remainder of the analysis will be based on grouped dataframes and finding the max value after grouping."
   ]
  },
  {
   "cell_type": "code",
   "execution_count": 31,
   "metadata": {},
   "outputs": [
    {
     "data": {
      "text/html": [
       "<div>\n",
       "<style scoped>\n",
       "    .dataframe tbody tr th:only-of-type {\n",
       "        vertical-align: middle;\n",
       "    }\n",
       "\n",
       "    .dataframe tbody tr th {\n",
       "        vertical-align: top;\n",
       "    }\n",
       "\n",
       "    .dataframe thead th {\n",
       "        text-align: right;\n",
       "    }\n",
       "</style>\n",
       "<table border=\"1\" class=\"dataframe\">\n",
       "  <thead>\n",
       "    <tr style=\"text-align: right;\">\n",
       "      <th></th>\n",
       "      <th>release_year</th>\n",
       "      <th>original_title</th>\n",
       "      <th>max_revenue_adj</th>\n",
       "    </tr>\n",
       "  </thead>\n",
       "  <tbody>\n",
       "    <tr>\n",
       "      <th>0</th>\n",
       "      <td>1960</td>\n",
       "      <td>Spartacus</td>\n",
       "      <td>442378047.43000</td>\n",
       "    </tr>\n",
       "    <tr>\n",
       "      <th>1</th>\n",
       "      <td>1961</td>\n",
       "      <td>One Hundred and One Dalmatians</td>\n",
       "      <td>1574814739.70000</td>\n",
       "    </tr>\n",
       "    <tr>\n",
       "      <th>2</th>\n",
       "      <td>1962</td>\n",
       "      <td>Lawrence of Arabia</td>\n",
       "      <td>504591421.51000</td>\n",
       "    </tr>\n",
       "    <tr>\n",
       "      <th>3</th>\n",
       "      <td>1963</td>\n",
       "      <td>From Russia With Love</td>\n",
       "      <td>561773358.99000</td>\n",
       "    </tr>\n",
       "    <tr>\n",
       "      <th>4</th>\n",
       "      <td>1964</td>\n",
       "      <td>Goldfinger</td>\n",
       "      <td>878080399.54000</td>\n",
       "    </tr>\n",
       "    <tr>\n",
       "      <th>5</th>\n",
       "      <td>1965</td>\n",
       "      <td>The Sound of Music</td>\n",
       "      <td>1129534861.99000</td>\n",
       "    </tr>\n",
       "    <tr>\n",
       "      <th>6</th>\n",
       "      <td>1966</td>\n",
       "      <td>Who's Afraid of Virginia Woolf?</td>\n",
       "      <td>226643572.37000</td>\n",
       "    </tr>\n",
       "    <tr>\n",
       "      <th>7</th>\n",
       "      <td>1967</td>\n",
       "      <td>The Jungle Book</td>\n",
       "      <td>1345551058.99000</td>\n",
       "    </tr>\n",
       "    <tr>\n",
       "      <th>8</th>\n",
       "      <td>1968</td>\n",
       "      <td>2001: A Space Odyssey</td>\n",
       "      <td>355546597.21000</td>\n",
       "    </tr>\n",
       "    <tr>\n",
       "      <th>9</th>\n",
       "      <td>1969</td>\n",
       "      <td>Butch Cassidy and the Sundance Kid</td>\n",
       "      <td>608151066.34000</td>\n",
       "    </tr>\n",
       "    <tr>\n",
       "      <th>10</th>\n",
       "      <td>1970</td>\n",
       "      <td>Love Story</td>\n",
       "      <td>766072642.11000</td>\n",
       "    </tr>\n",
       "    <tr>\n",
       "      <th>11</th>\n",
       "      <td>1971</td>\n",
       "      <td>Diamonds Are Forever</td>\n",
       "      <td>624682610.07000</td>\n",
       "    </tr>\n",
       "    <tr>\n",
       "      <th>12</th>\n",
       "      <td>1972</td>\n",
       "      <td>The Godfather</td>\n",
       "      <td>1277913732.39000</td>\n",
       "    </tr>\n",
       "    <tr>\n",
       "      <th>13</th>\n",
       "      <td>1973</td>\n",
       "      <td>The Exorcist</td>\n",
       "      <td>2167324901.20000</td>\n",
       "    </tr>\n",
       "    <tr>\n",
       "      <th>14</th>\n",
       "      <td>1974</td>\n",
       "      <td>Blazing Saddles</td>\n",
       "      <td>528462924.68000</td>\n",
       "    </tr>\n",
       "    <tr>\n",
       "      <th>15</th>\n",
       "      <td>1975</td>\n",
       "      <td>Jaws</td>\n",
       "      <td>1907005841.92000</td>\n",
       "    </tr>\n",
       "    <tr>\n",
       "      <th>16</th>\n",
       "      <td>1976</td>\n",
       "      <td>A Star Is Born</td>\n",
       "      <td>616903382.58000</td>\n",
       "    </tr>\n",
       "    <tr>\n",
       "      <th>17</th>\n",
       "      <td>1977</td>\n",
       "      <td>Star Wars</td>\n",
       "      <td>2789712242.28000</td>\n",
       "    </tr>\n",
       "    <tr>\n",
       "      <th>18</th>\n",
       "      <td>1978</td>\n",
       "      <td>Superman</td>\n",
       "      <td>1003538977.39000</td>\n",
       "    </tr>\n",
       "    <tr>\n",
       "      <th>19</th>\n",
       "      <td>1979</td>\n",
       "      <td>Moonraker</td>\n",
       "      <td>631857706.73000</td>\n",
       "    </tr>\n",
       "    <tr>\n",
       "      <th>20</th>\n",
       "      <td>1980</td>\n",
       "      <td>The Empire Strikes Back</td>\n",
       "      <td>1424626187.77000</td>\n",
       "    </tr>\n",
       "    <tr>\n",
       "      <th>21</th>\n",
       "      <td>1981</td>\n",
       "      <td>Raiders of the Lost Ark</td>\n",
       "      <td>935116878.23000</td>\n",
       "    </tr>\n",
       "    <tr>\n",
       "      <th>22</th>\n",
       "      <td>1982</td>\n",
       "      <td>E.T. the Extra-Terrestrial</td>\n",
       "      <td>1791694309.25000</td>\n",
       "    </tr>\n",
       "    <tr>\n",
       "      <th>23</th>\n",
       "      <td>1983</td>\n",
       "      <td>Return of the Jedi</td>\n",
       "      <td>1253818981.12000</td>\n",
       "    </tr>\n",
       "    <tr>\n",
       "      <th>24</th>\n",
       "      <td>1984</td>\n",
       "      <td>Indiana Jones and the Temple of Doom</td>\n",
       "      <td>698980999.05000</td>\n",
       "    </tr>\n",
       "    <tr>\n",
       "      <th>25</th>\n",
       "      <td>1985</td>\n",
       "      <td>Back to the Future</td>\n",
       "      <td>772572771.71000</td>\n",
       "    </tr>\n",
       "    <tr>\n",
       "      <th>26</th>\n",
       "      <td>1986</td>\n",
       "      <td>Top Gun</td>\n",
       "      <td>709881085.22000</td>\n",
       "    </tr>\n",
       "    <tr>\n",
       "      <th>27</th>\n",
       "      <td>1987</td>\n",
       "      <td>Fatal Attraction</td>\n",
       "      <td>614385336.77000</td>\n",
       "    </tr>\n",
       "    <tr>\n",
       "      <th>28</th>\n",
       "      <td>1988</td>\n",
       "      <td>Rain Man</td>\n",
       "      <td>654259434.36000</td>\n",
       "    </tr>\n",
       "    <tr>\n",
       "      <th>29</th>\n",
       "      <td>1989</td>\n",
       "      <td>Indiana Jones and the Last Crusade</td>\n",
       "      <td>834061065.27000</td>\n",
       "    </tr>\n",
       "    <tr>\n",
       "      <th>30</th>\n",
       "      <td>1990</td>\n",
       "      <td>Ghost</td>\n",
       "      <td>842793762.86000</td>\n",
       "    </tr>\n",
       "    <tr>\n",
       "      <th>31</th>\n",
       "      <td>1991</td>\n",
       "      <td>Terminator 2: Judgment Day</td>\n",
       "      <td>832568277.80000</td>\n",
       "    </tr>\n",
       "    <tr>\n",
       "      <th>32</th>\n",
       "      <td>1992</td>\n",
       "      <td>Aladdin</td>\n",
       "      <td>783306265.86000</td>\n",
       "    </tr>\n",
       "    <tr>\n",
       "      <th>33</th>\n",
       "      <td>1993</td>\n",
       "      <td>Jurassic Park</td>\n",
       "      <td>1388863311.76000</td>\n",
       "    </tr>\n",
       "    <tr>\n",
       "      <th>34</th>\n",
       "      <td>1994</td>\n",
       "      <td>The Lion King</td>\n",
       "      <td>1159591590.01000</td>\n",
       "    </tr>\n",
       "    <tr>\n",
       "      <th>35</th>\n",
       "      <td>1995</td>\n",
       "      <td>The Net</td>\n",
       "      <td>1583049536.35000</td>\n",
       "    </tr>\n",
       "    <tr>\n",
       "      <th>36</th>\n",
       "      <td>1996</td>\n",
       "      <td>Independence Day</td>\n",
       "      <td>1135764351.59000</td>\n",
       "    </tr>\n",
       "    <tr>\n",
       "      <th>37</th>\n",
       "      <td>1997</td>\n",
       "      <td>Titanic</td>\n",
       "      <td>2506405735.42000</td>\n",
       "    </tr>\n",
       "    <tr>\n",
       "      <th>38</th>\n",
       "      <td>1998</td>\n",
       "      <td>Armageddon</td>\n",
       "      <td>740815170.22000</td>\n",
       "    </tr>\n",
       "    <tr>\n",
       "      <th>39</th>\n",
       "      <td>1999</td>\n",
       "      <td>Star Wars: Episode I - The Phantom Menace</td>\n",
       "      <td>1209980530.46000</td>\n",
       "    </tr>\n",
       "    <tr>\n",
       "      <th>40</th>\n",
       "      <td>2000</td>\n",
       "      <td>Mission: Impossible II</td>\n",
       "      <td>691886948.73000</td>\n",
       "    </tr>\n",
       "    <tr>\n",
       "      <th>41</th>\n",
       "      <td>2001</td>\n",
       "      <td>Harry Potter and the Philosopher's Stone</td>\n",
       "      <td>1202518036.07000</td>\n",
       "    </tr>\n",
       "    <tr>\n",
       "      <th>42</th>\n",
       "      <td>2002</td>\n",
       "      <td>The Lord of the Rings: The Two Towers</td>\n",
       "      <td>1122902454.42000</td>\n",
       "    </tr>\n",
       "    <tr>\n",
       "      <th>43</th>\n",
       "      <td>2003</td>\n",
       "      <td>The Lord of the Rings: The Return of the King</td>\n",
       "      <td>1326278010.48000</td>\n",
       "    </tr>\n",
       "    <tr>\n",
       "      <th>44</th>\n",
       "      <td>2004</td>\n",
       "      <td>Shrek 2</td>\n",
       "      <td>1061903622.74000</td>\n",
       "    </tr>\n",
       "    <tr>\n",
       "      <th>45</th>\n",
       "      <td>2005</td>\n",
       "      <td>Harry Potter and the Goblet of Fire</td>\n",
       "      <td>1000352539.23000</td>\n",
       "    </tr>\n",
       "    <tr>\n",
       "      <th>46</th>\n",
       "      <td>2006</td>\n",
       "      <td>Pirates of the Caribbean: Dead Man's Chest</td>\n",
       "      <td>1152691351.87000</td>\n",
       "    </tr>\n",
       "    <tr>\n",
       "      <th>47</th>\n",
       "      <td>2007</td>\n",
       "      <td>Pirates of the Caribbean: At World's End</td>\n",
       "      <td>1010653507.91000</td>\n",
       "    </tr>\n",
       "    <tr>\n",
       "      <th>48</th>\n",
       "      <td>2008</td>\n",
       "      <td>The Dark Knight</td>\n",
       "      <td>1014733032.48000</td>\n",
       "    </tr>\n",
       "    <tr>\n",
       "      <th>49</th>\n",
       "      <td>2009</td>\n",
       "      <td>Avatar</td>\n",
       "      <td>2827123750.41000</td>\n",
       "    </tr>\n",
       "    <tr>\n",
       "      <th>50</th>\n",
       "      <td>2010</td>\n",
       "      <td>Toy Story 3</td>\n",
       "      <td>1063171911.00000</td>\n",
       "    </tr>\n",
       "    <tr>\n",
       "      <th>51</th>\n",
       "      <td>2011</td>\n",
       "      <td>Harry Potter and the Deathly Hallows: Part 2</td>\n",
       "      <td>1287183997.56000</td>\n",
       "    </tr>\n",
       "    <tr>\n",
       "      <th>52</th>\n",
       "      <td>2012</td>\n",
       "      <td>The Avengers</td>\n",
       "      <td>1443191435.21000</td>\n",
       "    </tr>\n",
       "    <tr>\n",
       "      <th>53</th>\n",
       "      <td>2013</td>\n",
       "      <td>Frozen</td>\n",
       "      <td>1192711491.12000</td>\n",
       "    </tr>\n",
       "    <tr>\n",
       "      <th>54</th>\n",
       "      <td>2014</td>\n",
       "      <td>The Hobbit: The Battle of the Five Armies</td>\n",
       "      <td>879752289.14000</td>\n",
       "    </tr>\n",
       "    <tr>\n",
       "      <th>55</th>\n",
       "      <td>2015</td>\n",
       "      <td>Star Wars: The Force Awakens</td>\n",
       "      <td>1902723129.80000</td>\n",
       "    </tr>\n",
       "  </tbody>\n",
       "</table>\n",
       "</div>"
      ],
      "text/plain": [
       "    release_year                                 original_title  \\\n",
       "0           1960                                      Spartacus   \n",
       "1           1961                 One Hundred and One Dalmatians   \n",
       "2           1962                             Lawrence of Arabia   \n",
       "3           1963                          From Russia With Love   \n",
       "4           1964                                     Goldfinger   \n",
       "5           1965                             The Sound of Music   \n",
       "6           1966                Who's Afraid of Virginia Woolf?   \n",
       "7           1967                                The Jungle Book   \n",
       "8           1968                          2001: A Space Odyssey   \n",
       "9           1969             Butch Cassidy and the Sundance Kid   \n",
       "10          1970                                     Love Story   \n",
       "11          1971                           Diamonds Are Forever   \n",
       "12          1972                                  The Godfather   \n",
       "13          1973                                   The Exorcist   \n",
       "14          1974                                Blazing Saddles   \n",
       "15          1975                                           Jaws   \n",
       "16          1976                                 A Star Is Born   \n",
       "17          1977                                      Star Wars   \n",
       "18          1978                                       Superman   \n",
       "19          1979                                      Moonraker   \n",
       "20          1980                        The Empire Strikes Back   \n",
       "21          1981                        Raiders of the Lost Ark   \n",
       "22          1982                     E.T. the Extra-Terrestrial   \n",
       "23          1983                             Return of the Jedi   \n",
       "24          1984           Indiana Jones and the Temple of Doom   \n",
       "25          1985                             Back to the Future   \n",
       "26          1986                                        Top Gun   \n",
       "27          1987                               Fatal Attraction   \n",
       "28          1988                                       Rain Man   \n",
       "29          1989             Indiana Jones and the Last Crusade   \n",
       "30          1990                                          Ghost   \n",
       "31          1991                     Terminator 2: Judgment Day   \n",
       "32          1992                                        Aladdin   \n",
       "33          1993                                  Jurassic Park   \n",
       "34          1994                                  The Lion King   \n",
       "35          1995                                        The Net   \n",
       "36          1996                               Independence Day   \n",
       "37          1997                                        Titanic   \n",
       "38          1998                                     Armageddon   \n",
       "39          1999      Star Wars: Episode I - The Phantom Menace   \n",
       "40          2000                         Mission: Impossible II   \n",
       "41          2001       Harry Potter and the Philosopher's Stone   \n",
       "42          2002          The Lord of the Rings: The Two Towers   \n",
       "43          2003  The Lord of the Rings: The Return of the King   \n",
       "44          2004                                        Shrek 2   \n",
       "45          2005            Harry Potter and the Goblet of Fire   \n",
       "46          2006     Pirates of the Caribbean: Dead Man's Chest   \n",
       "47          2007       Pirates of the Caribbean: At World's End   \n",
       "48          2008                                The Dark Knight   \n",
       "49          2009                                         Avatar   \n",
       "50          2010                                    Toy Story 3   \n",
       "51          2011   Harry Potter and the Deathly Hallows: Part 2   \n",
       "52          2012                                   The Avengers   \n",
       "53          2013                                         Frozen   \n",
       "54          2014      The Hobbit: The Battle of the Five Armies   \n",
       "55          2015                   Star Wars: The Force Awakens   \n",
       "\n",
       "    max_revenue_adj  \n",
       "0   442378047.43000  \n",
       "1  1574814739.70000  \n",
       "2   504591421.51000  \n",
       "3   561773358.99000  \n",
       "4   878080399.54000  \n",
       "5  1129534861.99000  \n",
       "6   226643572.37000  \n",
       "7  1345551058.99000  \n",
       "8   355546597.21000  \n",
       "9   608151066.34000  \n",
       "10  766072642.11000  \n",
       "11  624682610.07000  \n",
       "12 1277913732.39000  \n",
       "13 2167324901.20000  \n",
       "14  528462924.68000  \n",
       "15 1907005841.92000  \n",
       "16  616903382.58000  \n",
       "17 2789712242.28000  \n",
       "18 1003538977.39000  \n",
       "19  631857706.73000  \n",
       "20 1424626187.77000  \n",
       "21  935116878.23000  \n",
       "22 1791694309.25000  \n",
       "23 1253818981.12000  \n",
       "24  698980999.05000  \n",
       "25  772572771.71000  \n",
       "26  709881085.22000  \n",
       "27  614385336.77000  \n",
       "28  654259434.36000  \n",
       "29  834061065.27000  \n",
       "30  842793762.86000  \n",
       "31  832568277.80000  \n",
       "32  783306265.86000  \n",
       "33 1388863311.76000  \n",
       "34 1159591590.01000  \n",
       "35 1583049536.35000  \n",
       "36 1135764351.59000  \n",
       "37 2506405735.42000  \n",
       "38  740815170.22000  \n",
       "39 1209980530.46000  \n",
       "40  691886948.73000  \n",
       "41 1202518036.07000  \n",
       "42 1122902454.42000  \n",
       "43 1326278010.48000  \n",
       "44 1061903622.74000  \n",
       "45 1000352539.23000  \n",
       "46 1152691351.87000  \n",
       "47 1010653507.91000  \n",
       "48 1014733032.48000  \n",
       "49 2827123750.41000  \n",
       "50 1063171911.00000  \n",
       "51 1287183997.56000  \n",
       "52 1443191435.21000  \n",
       "53 1192711491.12000  \n",
       "54  879752289.14000  \n",
       "55 1902723129.80000  "
      ]
     },
     "execution_count": 31,
     "metadata": {},
     "output_type": "execute_result"
    }
   ],
   "source": [
    "# This cell retuns the max value of revenue per year along with the movie title and year. \n",
    "# The column revenue_adj is renamed max_revenue_adj\n",
    "\n",
    "movie_max_revenue_by_year = max_value_by_column('revenue_adj', 'release_year')\n",
    "movie_max_revenue_by_year.rename(columns = {'revenue_adj':'max_revenue_adj'}, inplace = True)\n",
    "movie_max_revenue_by_year[['release_year', 'original_title', 'max_revenue_adj']].round(2)"
   ]
  },
  {
   "cell_type": "markdown",
   "metadata": {},
   "source": [
    "The cell and output above uses the max_value_by_column function and retrieves the max amount of revenue earned in each year. This data is then assigned to a new variable called movie_max_revenue_by_year. Then to better portray the data being displayed we rename the revenue_adj column to the max_revenue_adj column. We then print out the name of the movie for each year that earned the most amount of revenue along with the amount earned. The following question is now answered.\n",
    "<ul>\n",
    "    <li><b>In each year, what was the movie that earned the most amount of revenue?</b><i> See output above</i></li>\n",
    "</ul>"
   ]
  },
  {
   "cell_type": "code",
   "execution_count": 32,
   "metadata": {},
   "outputs": [
    {
     "name": "stdout",
     "output_type": "stream",
     "text": [
      "56\n"
     ]
    }
   ],
   "source": [
    "# This cell returns the max value of revenue grouped by year.\n",
    "# Then the count is printed.\n",
    "\n",
    "check_max_len = movies_df.groupby('release_year')['revenue_adj'].max()\n",
    "print len(check_max_len)"
   ]
  },
  {
   "cell_type": "markdown",
   "metadata": {},
   "source": [
    "The cell above was used to verify the number of rows returned to get our max movie by year list matched the number of rows returned for the simple function to find the max revenue for movies grouped by year. As you can see, the number of rows matches. It is always good to double check the work. "
   ]
  },
  {
   "cell_type": "code",
   "execution_count": 33,
   "metadata": {},
   "outputs": [
    {
     "name": "stdout",
     "output_type": "stream",
     "text": [
      "67\n"
     ]
    }
   ],
   "source": [
    "# This cell retuns the max value of budget per year along with the movie title and year. \n",
    "# The column budget_adj is renamed max_budget_adj\n",
    "\n",
    "movie_max_budget_by_year = max_value_by_column('budget_adj', 'release_year')\n",
    "movie_max_budget_by_year.rename(columns = {'budget_adj':'max_budget_adj'}, inplace = True)\n",
    "print len(movie_max_budget_by_year[['release_year', 'original_title', 'max_budget_adj']].round(2))"
   ]
  },
  {
   "cell_type": "code",
   "execution_count": 34,
   "metadata": {},
   "outputs": [
    {
     "name": "stdout",
     "output_type": "stream",
     "text": [
      "56\n"
     ]
    }
   ],
   "source": [
    "check_max_len = movies_df.groupby('release_year')['budget_adj'].max()\n",
    "print len(check_max_len)"
   ]
  },
  {
   "cell_type": "markdown",
   "metadata": {},
   "source": [
    "In the preceding two cells we follow the similar process we used to find the max revenue_adj per year to find the max_budget_adj per year. However in doing so it produced a list that contained sixty-seven rows, when we were expecting to find only fifty-six, to account for the fifty-six unique years in our movies_df dataframe. After inspection, the problem was that there were many years where the max budget_adj was equivalent for more than one movie in that same year. The largest_value and default .max() function shown above, both eliminate ties, returning just the first max value found. After investigating further, the issue lied with the .merge() operation being perfomed in the max_value_by_column function that simple joins our new combined_df with the original movie_df based on the value found. Even though the data was accurate and there are actually years that had multiple movies containing the same max_budget_adj, we will be dropping duplicates found in the max_budget_adj column from our movie_max_budget_by_year dataframe. "
   ]
  },
  {
   "cell_type": "code",
   "execution_count": 35,
   "metadata": {
    "scrolled": true
   },
   "outputs": [
    {
     "data": {
      "text/html": [
       "<div>\n",
       "<style scoped>\n",
       "    .dataframe tbody tr th:only-of-type {\n",
       "        vertical-align: middle;\n",
       "    }\n",
       "\n",
       "    .dataframe tbody tr th {\n",
       "        vertical-align: top;\n",
       "    }\n",
       "\n",
       "    .dataframe thead th {\n",
       "        text-align: right;\n",
       "    }\n",
       "</style>\n",
       "<table border=\"1\" class=\"dataframe\">\n",
       "  <thead>\n",
       "    <tr style=\"text-align: right;\">\n",
       "      <th></th>\n",
       "      <th>release_year</th>\n",
       "      <th>original_title</th>\n",
       "      <th>max_budget_adj</th>\n",
       "    </tr>\n",
       "  </thead>\n",
       "  <tbody>\n",
       "    <tr>\n",
       "      <th>0</th>\n",
       "      <td>1960</td>\n",
       "      <td>Spartacus</td>\n",
       "      <td>88475609.49000</td>\n",
       "    </tr>\n",
       "    <tr>\n",
       "      <th>1</th>\n",
       "      <td>1961</td>\n",
       "      <td>West Side Story</td>\n",
       "      <td>43769167.25000</td>\n",
       "    </tr>\n",
       "    <tr>\n",
       "      <th>4</th>\n",
       "      <td>1962</td>\n",
       "      <td>Lawrence of Arabia</td>\n",
       "      <td>108126733.18000</td>\n",
       "    </tr>\n",
       "    <tr>\n",
       "      <th>6</th>\n",
       "      <td>1963</td>\n",
       "      <td>Cleopatra</td>\n",
       "      <td>221544381.15000</td>\n",
       "    </tr>\n",
       "    <tr>\n",
       "      <th>7</th>\n",
       "      <td>1964</td>\n",
       "      <td>My Fair Lady</td>\n",
       "      <td>119514545.97000</td>\n",
       "    </tr>\n",
       "    <tr>\n",
       "      <th>8</th>\n",
       "      <td>1965</td>\n",
       "      <td>The Greatest Story Ever Told</td>\n",
       "      <td>138411273.88000</td>\n",
       "    </tr>\n",
       "    <tr>\n",
       "      <th>9</th>\n",
       "      <td>1966</td>\n",
       "      <td>The Bible: In the Beginning...</td>\n",
       "      <td>120924264.46000</td>\n",
       "    </tr>\n",
       "    <tr>\n",
       "      <th>10</th>\n",
       "      <td>1967</td>\n",
       "      <td>The Dirty Dozen</td>\n",
       "      <td>163419093.49000</td>\n",
       "    </tr>\n",
       "    <tr>\n",
       "      <th>11</th>\n",
       "      <td>1968</td>\n",
       "      <td>2001: A Space Odyssey</td>\n",
       "      <td>75227563.38000</td>\n",
       "    </tr>\n",
       "    <tr>\n",
       "      <th>12</th>\n",
       "      <td>1969</td>\n",
       "      <td>Battle of Britain</td>\n",
       "      <td>71331170.41000</td>\n",
       "    </tr>\n",
       "    <tr>\n",
       "      <th>13</th>\n",
       "      <td>1970</td>\n",
       "      <td>Tora! Tora! Tora!</td>\n",
       "      <td>143133147.24000</td>\n",
       "    </tr>\n",
       "    <tr>\n",
       "      <th>14</th>\n",
       "      <td>1971</td>\n",
       "      <td>Bedknobs and Broomsticks</td>\n",
       "      <td>107703898.29000</td>\n",
       "    </tr>\n",
       "    <tr>\n",
       "      <th>15</th>\n",
       "      <td>1972</td>\n",
       "      <td>The Godfather</td>\n",
       "      <td>31287365.59000</td>\n",
       "    </tr>\n",
       "    <tr>\n",
       "      <th>17</th>\n",
       "      <td>1973</td>\n",
       "      <td>Robin Hood</td>\n",
       "      <td>73667393.68000</td>\n",
       "    </tr>\n",
       "    <tr>\n",
       "      <th>18</th>\n",
       "      <td>1974</td>\n",
       "      <td>The Towering Inferno</td>\n",
       "      <td>61911974.44000</td>\n",
       "    </tr>\n",
       "    <tr>\n",
       "      <th>19</th>\n",
       "      <td>1975</td>\n",
       "      <td>The Hindenburg</td>\n",
       "      <td>60777317.58000</td>\n",
       "    </tr>\n",
       "    <tr>\n",
       "      <th>20</th>\n",
       "      <td>1976</td>\n",
       "      <td>The Bad News Bears</td>\n",
       "      <td>134109431.00000</td>\n",
       "    </tr>\n",
       "    <tr>\n",
       "      <th>21</th>\n",
       "      <td>1977</td>\n",
       "      <td>A Bridge Too Far</td>\n",
       "      <td>79151182.72000</td>\n",
       "    </tr>\n",
       "    <tr>\n",
       "      <th>23</th>\n",
       "      <td>1978</td>\n",
       "      <td>Superman</td>\n",
       "      <td>183848538.22000</td>\n",
       "    </tr>\n",
       "    <tr>\n",
       "      <th>24</th>\n",
       "      <td>1979</td>\n",
       "      <td>Star Trek: The Motion Picture</td>\n",
       "      <td>105159390.09000</td>\n",
       "    </tr>\n",
       "    <tr>\n",
       "      <th>26</th>\n",
       "      <td>1980</td>\n",
       "      <td>Superman II</td>\n",
       "      <td>142885984.66000</td>\n",
       "    </tr>\n",
       "    <tr>\n",
       "      <th>27</th>\n",
       "      <td>1981</td>\n",
       "      <td>Lion of the Desert</td>\n",
       "      <td>83936678.17000</td>\n",
       "    </tr>\n",
       "    <tr>\n",
       "      <th>28</th>\n",
       "      <td>1982</td>\n",
       "      <td>Annie</td>\n",
       "      <td>112982120.13000</td>\n",
       "    </tr>\n",
       "    <tr>\n",
       "      <th>29</th>\n",
       "      <td>1983</td>\n",
       "      <td>Trading Places</td>\n",
       "      <td>88886067.11000</td>\n",
       "    </tr>\n",
       "    <tr>\n",
       "      <th>30</th>\n",
       "      <td>1984</td>\n",
       "      <td>The Cotton Club</td>\n",
       "      <td>121744438.27000</td>\n",
       "    </tr>\n",
       "    <tr>\n",
       "      <th>31</th>\n",
       "      <td>1985</td>\n",
       "      <td>Santa Claus: The Movie</td>\n",
       "      <td>101358302.61000</td>\n",
       "    </tr>\n",
       "    <tr>\n",
       "      <th>32</th>\n",
       "      <td>1986</td>\n",
       "      <td>Pirates</td>\n",
       "      <td>79576256.43000</td>\n",
       "    </tr>\n",
       "    <tr>\n",
       "      <th>33</th>\n",
       "      <td>1987</td>\n",
       "      <td>The Living Daylights</td>\n",
       "      <td>76763217.52000</td>\n",
       "    </tr>\n",
       "    <tr>\n",
       "      <th>34</th>\n",
       "      <td>1988</td>\n",
       "      <td>Who Framed Roger Rabbit</td>\n",
       "      <td>129072371.62000</td>\n",
       "    </tr>\n",
       "    <tr>\n",
       "      <th>35</th>\n",
       "      <td>1989</td>\n",
       "      <td>The Abyss</td>\n",
       "      <td>123128945.73000</td>\n",
       "    </tr>\n",
       "    <tr>\n",
       "      <th>36</th>\n",
       "      <td>1990</td>\n",
       "      <td>Die Hard 2</td>\n",
       "      <td>116822897.82000</td>\n",
       "    </tr>\n",
       "    <tr>\n",
       "      <th>37</th>\n",
       "      <td>1991</td>\n",
       "      <td>Terminator 2: Judgment Day</td>\n",
       "      <td>160109284.19000</td>\n",
       "    </tr>\n",
       "    <tr>\n",
       "      <th>38</th>\n",
       "      <td>1992</td>\n",
       "      <td>Batman Returns</td>\n",
       "      <td>124321940.37000</td>\n",
       "    </tr>\n",
       "    <tr>\n",
       "      <th>39</th>\n",
       "      <td>1993</td>\n",
       "      <td>Last Action Hero</td>\n",
       "      <td>128304946.74000</td>\n",
       "    </tr>\n",
       "    <tr>\n",
       "      <th>40</th>\n",
       "      <td>1994</td>\n",
       "      <td>True Lies</td>\n",
       "      <td>169177829.58000</td>\n",
       "    </tr>\n",
       "    <tr>\n",
       "      <th>41</th>\n",
       "      <td>1995</td>\n",
       "      <td>Waterworld</td>\n",
       "      <td>250419201.74000</td>\n",
       "    </tr>\n",
       "    <tr>\n",
       "      <th>42</th>\n",
       "      <td>1996</td>\n",
       "      <td>The Hunchback of Notre Dame</td>\n",
       "      <td>139021673.90000</td>\n",
       "    </tr>\n",
       "    <tr>\n",
       "      <th>44</th>\n",
       "      <td>1997</td>\n",
       "      <td>Titanic</td>\n",
       "      <td>271692064.21000</td>\n",
       "    </tr>\n",
       "    <tr>\n",
       "      <th>45</th>\n",
       "      <td>1998</td>\n",
       "      <td>Armageddon</td>\n",
       "      <td>187277365.67000</td>\n",
       "    </tr>\n",
       "    <tr>\n",
       "      <th>47</th>\n",
       "      <td>1999</td>\n",
       "      <td>Wild Wild West</td>\n",
       "      <td>222538983.92000</td>\n",
       "    </tr>\n",
       "    <tr>\n",
       "      <th>48</th>\n",
       "      <td>2000</td>\n",
       "      <td>Dinosaur</td>\n",
       "      <td>161452244.58000</td>\n",
       "    </tr>\n",
       "    <tr>\n",
       "      <th>49</th>\n",
       "      <td>2001</td>\n",
       "      <td>Pearl Harbor</td>\n",
       "      <td>172408336.34000</td>\n",
       "    </tr>\n",
       "    <tr>\n",
       "      <th>50</th>\n",
       "      <td>2002</td>\n",
       "      <td>Men in Black II</td>\n",
       "      <td>169716595.11000</td>\n",
       "    </tr>\n",
       "    <tr>\n",
       "      <th>53</th>\n",
       "      <td>2003</td>\n",
       "      <td>Terminator 3: Rise of the Machines</td>\n",
       "      <td>237070528.96000</td>\n",
       "    </tr>\n",
       "    <tr>\n",
       "      <th>54</th>\n",
       "      <td>2004</td>\n",
       "      <td>Spider-Man 2</td>\n",
       "      <td>230889079.96000</td>\n",
       "    </tr>\n",
       "    <tr>\n",
       "      <th>55</th>\n",
       "      <td>2005</td>\n",
       "      <td>King Kong</td>\n",
       "      <td>231128600.96000</td>\n",
       "    </tr>\n",
       "    <tr>\n",
       "      <th>56</th>\n",
       "      <td>2006</td>\n",
       "      <td>Superman Returns</td>\n",
       "      <td>292050672.74000</td>\n",
       "    </tr>\n",
       "    <tr>\n",
       "      <th>57</th>\n",
       "      <td>2007</td>\n",
       "      <td>Pirates of the Caribbean: At World's End</td>\n",
       "      <td>315500574.79000</td>\n",
       "    </tr>\n",
       "    <tr>\n",
       "      <th>58</th>\n",
       "      <td>2008</td>\n",
       "      <td>The Chronicles of Narnia: Prince Caspian</td>\n",
       "      <td>227876992.61000</td>\n",
       "    </tr>\n",
       "    <tr>\n",
       "      <th>59</th>\n",
       "      <td>2009</td>\n",
       "      <td>Harry Potter and the Half-Blood Prince</td>\n",
       "      <td>254100108.53000</td>\n",
       "    </tr>\n",
       "    <tr>\n",
       "      <th>60</th>\n",
       "      <td>2010</td>\n",
       "      <td>The Warrior's Way</td>\n",
       "      <td>425000000.00000</td>\n",
       "    </tr>\n",
       "    <tr>\n",
       "      <th>61</th>\n",
       "      <td>2011</td>\n",
       "      <td>Pirates of the Caribbean: On Stranger Tides</td>\n",
       "      <td>368371256.18000</td>\n",
       "    </tr>\n",
       "    <tr>\n",
       "      <th>62</th>\n",
       "      <td>2012</td>\n",
       "      <td>John Carter</td>\n",
       "      <td>246933513.15000</td>\n",
       "    </tr>\n",
       "    <tr>\n",
       "      <th>63</th>\n",
       "      <td>2013</td>\n",
       "      <td>The Lone Ranger</td>\n",
       "      <td>238688504.95000</td>\n",
       "    </tr>\n",
       "    <tr>\n",
       "      <th>64</th>\n",
       "      <td>2014</td>\n",
       "      <td>The Hobbit: The Battle of the Five Armies</td>\n",
       "      <td>230272762.69000</td>\n",
       "    </tr>\n",
       "    <tr>\n",
       "      <th>66</th>\n",
       "      <td>2015</td>\n",
       "      <td>Avengers: Age of Ultron</td>\n",
       "      <td>257599886.66000</td>\n",
       "    </tr>\n",
       "  </tbody>\n",
       "</table>\n",
       "</div>"
      ],
      "text/plain": [
       "    release_year                               original_title  max_budget_adj\n",
       "0           1960                                    Spartacus  88475609.49000\n",
       "1           1961                              West Side Story  43769167.25000\n",
       "4           1962                           Lawrence of Arabia 108126733.18000\n",
       "6           1963                                    Cleopatra 221544381.15000\n",
       "7           1964                                 My Fair Lady 119514545.97000\n",
       "8           1965                 The Greatest Story Ever Told 138411273.88000\n",
       "9           1966               The Bible: In the Beginning... 120924264.46000\n",
       "10          1967                              The Dirty Dozen 163419093.49000\n",
       "11          1968                        2001: A Space Odyssey  75227563.38000\n",
       "12          1969                            Battle of Britain  71331170.41000\n",
       "13          1970                            Tora! Tora! Tora! 143133147.24000\n",
       "14          1971                     Bedknobs and Broomsticks 107703898.29000\n",
       "15          1972                                The Godfather  31287365.59000\n",
       "17          1973                                   Robin Hood  73667393.68000\n",
       "18          1974                         The Towering Inferno  61911974.44000\n",
       "19          1975                               The Hindenburg  60777317.58000\n",
       "20          1976                           The Bad News Bears 134109431.00000\n",
       "21          1977                             A Bridge Too Far  79151182.72000\n",
       "23          1978                                     Superman 183848538.22000\n",
       "24          1979                Star Trek: The Motion Picture 105159390.09000\n",
       "26          1980                                  Superman II 142885984.66000\n",
       "27          1981                           Lion of the Desert  83936678.17000\n",
       "28          1982                                        Annie 112982120.13000\n",
       "29          1983                               Trading Places  88886067.11000\n",
       "30          1984                              The Cotton Club 121744438.27000\n",
       "31          1985                       Santa Claus: The Movie 101358302.61000\n",
       "32          1986                                      Pirates  79576256.43000\n",
       "33          1987                         The Living Daylights  76763217.52000\n",
       "34          1988                      Who Framed Roger Rabbit 129072371.62000\n",
       "35          1989                                    The Abyss 123128945.73000\n",
       "36          1990                                   Die Hard 2 116822897.82000\n",
       "37          1991                   Terminator 2: Judgment Day 160109284.19000\n",
       "38          1992                               Batman Returns 124321940.37000\n",
       "39          1993                             Last Action Hero 128304946.74000\n",
       "40          1994                                    True Lies 169177829.58000\n",
       "41          1995                                   Waterworld 250419201.74000\n",
       "42          1996                  The Hunchback of Notre Dame 139021673.90000\n",
       "44          1997                                      Titanic 271692064.21000\n",
       "45          1998                                   Armageddon 187277365.67000\n",
       "47          1999                               Wild Wild West 222538983.92000\n",
       "48          2000                                     Dinosaur 161452244.58000\n",
       "49          2001                                 Pearl Harbor 172408336.34000\n",
       "50          2002                              Men in Black II 169716595.11000\n",
       "53          2003           Terminator 3: Rise of the Machines 237070528.96000\n",
       "54          2004                                 Spider-Man 2 230889079.96000\n",
       "55          2005                                    King Kong 231128600.96000\n",
       "56          2006                             Superman Returns 292050672.74000\n",
       "57          2007     Pirates of the Caribbean: At World's End 315500574.79000\n",
       "58          2008     The Chronicles of Narnia: Prince Caspian 227876992.61000\n",
       "59          2009       Harry Potter and the Half-Blood Prince 254100108.53000\n",
       "60          2010                            The Warrior's Way 425000000.00000\n",
       "61          2011  Pirates of the Caribbean: On Stranger Tides 368371256.18000\n",
       "62          2012                                  John Carter 246933513.15000\n",
       "63          2013                              The Lone Ranger 238688504.95000\n",
       "64          2014    The Hobbit: The Battle of the Five Armies 230272762.69000\n",
       "66          2015                      Avengers: Age of Ultron 257599886.66000"
      ]
     },
     "execution_count": 35,
     "metadata": {},
     "output_type": "execute_result"
    }
   ],
   "source": [
    "movie_max_budget_by_year = movie_max_budget_by_year.drop_duplicates(subset='max_budget_adj')\n",
    "movie_max_budget_by_year.reset_index()\n",
    "movie_max_budget_by_year[['release_year', 'original_title', 'max_budget_adj']].round(2)"
   ]
  },
  {
   "cell_type": "code",
   "execution_count": 36,
   "metadata": {},
   "outputs": [
    {
     "name": "stdout",
     "output_type": "stream",
     "text": [
      "56\n"
     ]
    }
   ],
   "source": [
    "print len(movie_max_budget_by_year[['release_year', 'original_title', 'max_budget_adj']].round(2))"
   ]
  },
  {
   "cell_type": "markdown",
   "metadata": {},
   "source": [
    "In the cells preceding we drop duplicates so we can display just the first movie with the max_budget_adj for each year. Then we check the number of rows return to verify that we have all fifty-six years properly accounted for. \n",
    "<ul>\n",
    "    <li><b>In each year, what was the movie with the largest budget?</b><i> See output above</i></li>\n",
    "</ul>\n"
   ]
  },
  {
   "cell_type": "code",
   "execution_count": 37,
   "metadata": {
    "scrolled": true
   },
   "outputs": [
    {
     "name": "stdout",
     "output_type": "stream",
     "text": [
      "release_year\n",
      "1960    33409910.82000\n",
      "1961    79471674.15000\n",
      "1962    48562384.35000\n",
      "1963    39245798.14000\n",
      "1964    57076026.42000\n",
      "1965    90576704.22000\n",
      "1966    12375267.86000\n",
      "1967   120576267.53000\n",
      "1968    42553882.55000\n",
      "1969    46778881.08000\n",
      "1970    76741778.84000\n",
      "1971    39645864.69000\n",
      "1972    64495015.53000\n",
      "1973   109293936.61000\n",
      "1974    76452803.10000\n",
      "1975    88172229.92000\n",
      "1976    65302374.01000\n",
      "1977   137636153.15000\n",
      "1978    70442514.12000\n",
      "1979    88808022.79000\n",
      "1980    59999303.58000\n",
      "1981    51900540.94000\n",
      "1982    68582765.09000\n",
      "1983    63148770.32000\n",
      "1984    52686443.32000\n",
      "1985    53483194.19000\n",
      "1986    49369804.65000\n",
      "1987    53152461.49000\n",
      "1988    47553960.23000\n",
      "1989    66314036.72000\n",
      "1990    67200559.70000\n",
      "1991    56659422.88000\n",
      "1992    71019530.24000\n",
      "1993    58980852.62000\n",
      "1994    56729173.35000\n",
      "1995    74870976.14000\n",
      "1996    56641057.31000\n",
      "1997    75388698.19000\n",
      "1998    60471319.53000\n",
      "1999    66362624.45000\n",
      "2000    61243359.11000\n",
      "2001    68241148.88000\n",
      "2002    66736441.37000\n",
      "2003    63858210.04000\n",
      "2004    63151632.79000\n",
      "2005    50665087.21000\n",
      "2006    43149424.81000\n",
      "2007    46608771.86000\n",
      "2008    39677744.17000\n",
      "2009    42296313.29000\n",
      "2010    44905994.98000\n",
      "2011    42537889.06000\n",
      "2012    39844726.54000\n",
      "2013    35088656.20000\n",
      "2014    32016006.70000\n",
      "2015    39143789.58000\n",
      "Name: revenue_adj, dtype: float64\n"
     ]
    }
   ],
   "source": [
    "# This cell creates a new grouped dataframe by release_year and then finds the average revenue_adj for each year. \n",
    "# The second line renames the revenue_adj for this new object to average_rev_adj\n",
    "\n",
    "avg_revenue_earned_by_year = movies_df.groupby('release_year')['revenue_adj'].mean().round(2)\n",
    "avg_revenue_earned_by_year.rename(columns = {'revenue_adj':'average_rev_adj'})\n",
    "print avg_revenue_earned_by_year"
   ]
  },
  {
   "cell_type": "code",
   "execution_count": 38,
   "metadata": {
    "scrolled": true
   },
   "outputs": [
    {
     "name": "stdout",
     "output_type": "stream",
     "text": [
      "56\n"
     ]
    }
   ],
   "source": [
    "print len(avg_revenue_earned_by_year)"
   ]
  },
  {
   "cell_type": "markdown",
   "metadata": {},
   "source": [
    "The cells above group our movies_df by year and then returns the average revenue earned each year. Then the number of rows returned is checked to make sure each year is accounted for. \n",
    "<ul>\n",
    "    <li><b>In each year, what was the average amount of revenue earned?</b><i> See output above.</i></li>\n",
    "</ul>"
   ]
  },
  {
   "cell_type": "code",
   "execution_count": 39,
   "metadata": {
    "scrolled": true
   },
   "outputs": [
    {
     "name": "stdout",
     "output_type": "stream",
     "text": [
      "release_year\n",
      "1960   6.32000\n",
      "1961   6.37000\n",
      "1962   6.34000\n",
      "1963   6.33000\n",
      "1964   6.21000\n",
      "1965   6.19000\n",
      "1966   6.13000\n",
      "1967   6.24000\n",
      "1968   6.38000\n",
      "1969   5.96000\n",
      "1970   6.42000\n",
      "1971   6.42000\n",
      "1972   6.53000\n",
      "1973   6.70000\n",
      "1974   6.40000\n",
      "1975   6.39000\n",
      "1976   6.34000\n",
      "1977   6.15000\n",
      "1978   6.13000\n",
      "1979   6.31000\n",
      "1980   6.16000\n",
      "1981   6.17000\n",
      "1982   6.24000\n",
      "1983   5.97000\n",
      "1984   6.00000\n",
      "1985   6.18000\n",
      "1986   6.00000\n",
      "1987   6.13000\n",
      "1988   5.97000\n",
      "1989   6.07000\n",
      "1990   5.99000\n",
      "1991   6.01000\n",
      "1992   6.08000\n",
      "1993   6.05000\n",
      "1994   5.94000\n",
      "1995   6.06000\n",
      "1996   5.90000\n",
      "1997   5.99000\n",
      "1998   5.97000\n",
      "1999   6.03000\n",
      "2000   5.88000\n",
      "2001   5.90000\n",
      "2002   5.97000\n",
      "2003   5.93000\n",
      "2004   5.99000\n",
      "2005   5.87000\n",
      "2006   5.94000\n",
      "2007   5.96000\n",
      "2008   5.93000\n",
      "2009   5.86000\n",
      "2010   5.99000\n",
      "2011   5.96000\n",
      "2012   5.80000\n",
      "2013   5.88000\n",
      "2014   5.92000\n",
      "2015   5.89000\n",
      "Name: vote_average, dtype: float64\n"
     ]
    }
   ],
   "source": [
    "# This cell creates a new grouped dataframe by release_year and then finds the vote_average or rating for each year. \n",
    "# The second line renames the vote_average for this new object to average_rating\n",
    "\n",
    "avg_rating_of_movies_by_year = movies_df.groupby('release_year')['vote_average'].mean().round(2)\n",
    "avg_rating_of_movies_by_year.rename(columns = {'vote_average':'average_rating'})\n",
    "print avg_rating_of_movies_by_year"
   ]
  },
  {
   "cell_type": "code",
   "execution_count": 40,
   "metadata": {
    "scrolled": true
   },
   "outputs": [
    {
     "name": "stdout",
     "output_type": "stream",
     "text": [
      "56\n"
     ]
    }
   ],
   "source": [
    "print len(avg_rating_of_movies_by_year)"
   ]
  },
  {
   "cell_type": "markdown",
   "metadata": {},
   "source": [
    "The cells above group our movies_df by year and then returns the average rating each year. Then the number of rows returned is checked to make sure each year is accounted for. \n",
    "\n",
    "<ul>\n",
    "    <li><b>In each year, what was the average rating for the movies released?</b><i> See output above.</i></li>\n",
    "</ul>\n"
   ]
  },
  {
   "cell_type": "code",
   "execution_count": 41,
   "metadata": {},
   "outputs": [
    {
     "data": {
      "text/plain": [
       "<matplotlib.axes._subplots.AxesSubplot at 0x7ff2b11e1450>"
      ]
     },
     "execution_count": 41,
     "metadata": {},
     "output_type": "execute_result"
    },
    {
     "data": {
      "image/png": "[encoded data removed]",
      "text/plain": [
       "<matplotlib.figure.Figure at 0x7ff2b12c9b10>"
      ]
     },
     "metadata": {
      "needs_background": "light"
     },
     "output_type": "display_data"
    }
   ],
   "source": [
    "avg_rating_of_movies_by_year.hist()"
   ]
  },
  {
   "cell_type": "markdown",
   "metadata": {},
   "source": [
    "This data is very intersting as it appears that the average ratings for movies do not deviate too far from one another each year. There isn't a year where movies on average were rated past seven, or a year on average where movies were rated below five. This is a histogram for the average rating for each year."
   ]
  },
  {
   "cell_type": "code",
   "execution_count": 42,
   "metadata": {
    "scrolled": true
   },
   "outputs": [
    {
     "name": "stdout",
     "output_type": "stream",
     "text": [
      "release_year\n",
      "2014    700\n",
      "Name: original_title, dtype: int64\n"
     ]
    }
   ],
   "source": [
    "# In this cell we create a new grouped dataframe grouped by release_year count the number of orginal_titles in each group.\n",
    "# The we sort the values from largest to smallest.\n",
    "\n",
    "year_with_most_movies = movies_df.groupby('release_year')['original_title'].count()\n",
    "print year_with_most_movies.sort_values(ascending= False).head(1)"
   ]
  },
  {
   "cell_type": "code",
   "execution_count": 43,
   "metadata": {
    "scrolled": true
   },
   "outputs": [
    {
     "data": {
      "text/plain": [
       "<matplotlib.axes._subplots.AxesSubplot at 0x7ff2b117ee10>"
      ]
     },
     "execution_count": 43,
     "metadata": {},
     "output_type": "execute_result"
    },
    {
     "data": {
      "image/png": "[encoded data removed]",
      "text/plain": [
       "<matplotlib.figure.Figure at 0x7ff2b12ac650>"
      ]
     },
     "metadata": {
      "needs_background": "light"
     },
     "output_type": "display_data"
    }
   ],
   "source": [
    "year_with_most_movies.plot(xticks = np.arange(1960, 2020, 5))"
   ]
  },
  {
   "cell_type": "markdown",
   "metadata": {},
   "source": [
    "The preceding cell of code counts the number of movies in each group of year. Then it sorts the values from largest to smallest, then we restrict the output to just the first row. The next cell of code plots the grouped dataframe and sets the x axis values to range from 1960 to 2020, incrementing by 5 years each tick. \n",
    "<ul>\n",
    "    <li><b>Which year released the most number of movies?</b> 2014</li>\n",
    "</ul>\n",
    "\n",
    "Also notice that there is a steady increase in the number of movies released as the years go on. "
   ]
  },
  {
   "cell_type": "markdown",
   "metadata": {},
   "source": [
    "<a id='conclusions'></a>\n",
    "## Conclusions\n",
    "\n",
    "The results of our data analysis have helped to answer the questions above, by providing some descriptive statistics regarding the revenue_adj and budget_adj information contained inside our movies dataset. A correlation between these two variables exists which denotes that the more money spent on a budget will moderatley and positively correlate to an increase in revenue when the movie is released. The correlation was determined to not be a very strong correlation as some outliers were the cause of a lower score for pearsons r. \n",
    "    Through this data analysis, we also discovered that the average number of movies released each year has steadily increased in the passage of time. In regards to the quality of those movies, we found that the ratings didnt' vary to much and that the general public for the past fifty plus years have rated their movies very similarly. "
   ]
  },
  {
   "cell_type": "markdown",
   "metadata": {},
   "source": [
    "### Resources used:\n",
    "\n",
    "   (Feb, 05, 2020.) Pandas Documentation web site.\n",
    "       Retreived from: https://pandas.pydata.org/pandas-docs/stable/index.html"
   ]
  },
  {
   "cell_type": "code",
   "execution_count": 44,
   "metadata": {},
   "outputs": [
    {
     "data": {
      "text/plain": [
       "0"
      ]
     },
     "execution_count": 44,
     "metadata": {},
     "output_type": "execute_result"
    }
   ],
   "source": [
    "from subprocess import call\n",
    "call(['python', '-m', 'nbconvert', 'Investigate_a_Dataset.ipynb'])"
   ]
  }
 ],
 "metadata": {
  "kernelspec": {
   "display_name": "Python 2",
   "language": "python",
   "name": "python2"
  },
  "language_info": {
   "codemirror_mode": {
    "name": "ipython",
    "version": 2
   },
   "file_extension": ".py",
   "mimetype": "text/x-python",
   "name": "python",
   "nbconvert_exporter": "python",
   "pygments_lexer": "ipython2",
   "version": "2.7.14"
  }
 },
 "nbformat": 4,
 "nbformat_minor": 2
}
